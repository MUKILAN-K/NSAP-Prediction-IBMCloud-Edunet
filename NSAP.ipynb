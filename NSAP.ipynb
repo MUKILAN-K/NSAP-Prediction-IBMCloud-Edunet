{
  "nbformat": 4,
  "nbformat_minor": 0,
  "metadata": {
    "colab": {
      "provenance": []
    },
    "kernelspec": {
      "name": "python3",
      "display_name": "Python 3"
    },
    "language_info": {
      "name": "python"
    }
  },
  "cells": [
    {
      "cell_type": "code",
      "execution_count": null,
      "metadata": {
        "id": "ZjizzJBDhzU7"
      },
      "outputs": [],
      "source": [
        "from IPython.display import display, HTML\n",
        "\n",
        "# Title & Instructions\n",
        "display(HTML(\"\"\"\n",
        "    <h2 style='color:darkblue;'>NSAP Scheme Predictor 💼</h2>\n",
        "    <p>Fill in the required details below to get the scheme prediction.</p>\n",
        "\"\"\"))\n",
        "\n",
        "# Collect user input (simulate UI)\n",
        "finyear = input(\"Financial Year (e.g., 2021-22): \")\n",
        "lgdstatecode = input(\"LGD State Code (number): \")\n",
        "statename = input(\"State Name: \")\n",
        "lgddistrictcode = input(\"District Code: \")\n",
        "districtname = input(\"District Name: \")\n",
        "totalbeneficiaries = int(input(\"Total Beneficiaries: \"))\n",
        "totalmale = int(input(\"Total Male Beneficiaries: \"))\n",
        "totalfemale = int(input(\"Total Female Beneficiaries: \"))\n",
        "totaltransgender = int(input(\"Total Transgender Beneficiaries: \"))\n",
        "totalsc = int(input(\"Total SC: \"))\n",
        "totalst = int(input(\"Total ST: \"))\n",
        "totalgen = int(input(\"Total General: \"))\n",
        "totalobc = int(input(\"Total OBC: \"))\n",
        "totalaadhaar = int(input(\"Total Aadhaar Linked: \"))\n",
        "totalmobilenumber = int(input(\"Total Mobile Numbers: \"))\n"
      ]
    },
    {
      "cell_type": "code",
      "source": [
        "import requests\n",
        "\n",
        "API_KEY = \"****************************************\"\n",
        "token_response = requests.post('https://iam.cloud.ibm.com/identity/token',\n",
        "                               data={\"apikey\": API_KEY, \"grant_type\": 'urn:ibm:params:oauth:grant-type:apikey'})\n",
        "mltoken = token_response.json()[\"access_token\"]\n",
        "\n",
        "# API header\n",
        "header = {'Content-Type': 'application/json', 'Authorization': 'Bearer ' + mltoken}\n",
        "\n",
        "# Arrange fields and values\n",
        "fields = [\"finyear\",\"lgdstatecode\",\"statename\",\"lgddistrictcode\",\"districtname\",\n",
        "          \"totalbeneficiaries\",\"totalmale\",\"totalfemale\",\"totaltransgender\",\n",
        "          \"totalsc\",\"totalst\",\"totalgen\",\"totalobc\",\"totalaadhaar\",\"totalmobilenumber\"]\n",
        "\n",
        "values = [[finyear, lgdstatecode, statename, lgddistrictcode, districtname,\n",
        "           totalbeneficiaries, totalmale, totalfemale, totaltransgender,\n",
        "           totalsc, totalst, totalgen, totalobc, totalaadhaar, totalmobilenumber]]\n",
        "\n",
        "# Scoring payload\n",
        "payload_scoring = {\"input_data\": [{\"fields\": fields, \"values\": values}]}\n",
        "\n",
        "# Scoring request\n",
        "response = requests.post('https://au-syd.ml.cloud.ibm.com/ml/v4/deployments/1bbd03a9-0d25-4917-8994-5b0731b73a23/predictions?version=2021-05-01',\n",
        "                         json=payload_scoring, headers=header)\n"
      ],
      "metadata": {
        "id": "s15sk0_5h19F"
      },
      "execution_count": null,
      "outputs": []
    },
    {
      "cell_type": "code",
      "source": [
        "from IPython.display import JSON\n",
        "\n",
        "try:\n",
        "    result = response.json()\n",
        "    prediction = result['predictions'][0]['values'][0][0]\n",
        "\n",
        "    display(HTML(f\"\"\"\n",
        "        <div style=\"border:2px solid green; padding:10px; background:#f6fff6; margin-top:20px;\">\n",
        "            <h3 style=\"color:green;\">🎯 Prediction Result</h3>\n",
        "            <p><strong>Recommended Scheme:</strong> <span style=\"color:darkblue;\">{prediction}</span></p>\n",
        "        </div>\n",
        "    \"\"\"))\n",
        "except Exception as e:\n",
        "    print(\"Error in prediction:\", e)\n",
        "    print(response.text)\n"
      ],
      "metadata": {
        "id": "hy21C1FYh6q3"
      },
      "execution_count": null,
      "outputs": []
    }
  ]
}